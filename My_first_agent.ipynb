{
  "nbformat": 4,
  "nbformat_minor": 0,
  "metadata": {
    "colab": {
      "provenance": [],
      "include_colab_link": true
    },
    "kernelspec": {
      "name": "python3",
      "display_name": "Python 3"
    },
    "language_info": {
      "name": "python"
    }
  },
  "cells": [
    {
      "cell_type": "markdown",
      "metadata": {
        "id": "view-in-github",
        "colab_type": "text"
      },
      "source": [
        "<a href=\"https://colab.research.google.com/github/abiantony123/Learning/blob/master/My_first_agent.ipynb\" target=\"_parent\"><img src=\"https://colab.research.google.com/assets/colab-badge.svg\" alt=\"Open In Colab\"/></a>"
      ]
    },
    {
      "cell_type": "markdown",
      "source": [
        "# Simple Agent design\n",
        "This is part of the Modern AI Pro. The goal is to use the ReAct architecture to build a stock analysis tool that pulls ticker quotes, news and uses tools such as calculator to perform a complex human task."
      ],
      "metadata": {
        "id": "FnjYmR4uEOQz"
      }
    },
    {
      "cell_type": "code",
      "source": [
        "!pip install -U -q langchain_groq duckduckgo_search polygon"
      ],
      "metadata": {
        "id": "_r8FylOVPldQ"
      },
      "execution_count": null,
      "outputs": []
    },
    {
      "cell_type": "code",
      "execution_count": null,
      "metadata": {
        "id": "W6HcqZgtPdk6"
      },
      "outputs": [],
      "source": [
        "from langchain_groq import ChatGroq\n",
        "import os\n",
        "from google.colab import userdata\n",
        "llm_groq = ChatGroq(model_name=\"llama3-70b-8192\", api_key=userdata.get(\"GROQ_API_KEY\"))\n",
        "os.environ[\"POLYGON_API_KEY\"] = userdata.get(\"POLYGON_API_KEY\")"
      ]
    },
    {
      "cell_type": "code",
      "source": [
        "class Agent:\n",
        "  def __init__(self,prompt):\n",
        "    self.messages = [] # setting up a basic memory\n",
        "    self.messages.append({\"role\": \"system\", \"content\": prompt})\n",
        "\n",
        "  def __call__(self,user_message):\n",
        "    self.messages.append({\"role\":\"user\",\"content\":user_message})\n",
        "    ai_response = llm_groq.invoke(self.messages).content\n",
        "    self.messages.append({\"role\":\"assistant\",\"content\":ai_response})\n",
        "    return ai_response\n"
      ],
      "metadata": {
        "id": "rBIZ7qd3Tk9O"
      },
      "execution_count": null,
      "outputs": []
    },
    {
      "cell_type": "code",
      "source": [
        "prompt = \"\"\"\n",
        "You operate in a loop consisting of Thought, Action, PAUSE, and Observation.\n",
        "At the end of the loop, you provide an Answer.\n",
        "Use Thought to describe your reasoning about the task you have been asked to complete.\n",
        "Use Action to execute one of the actions available to you, then return PAUSE.\n",
        "Observation will contain the result of the action.\n",
        "\n",
        "Your available actions are:\n",
        "\n",
        "calculate:\n",
        "\n",
        "e.g. calculate: result=4 * 7 / 3\n",
        "Runs a calculation and returns the result. Use Python, including any necessary imports, e.g., import math; math.sqrt(4).\n",
        "\n",
        "stock_price:\n",
        "\n",
        "e.g. stock_price: AAPL\n",
        "Returns the current stock price of the given ticker symbol (e.g., AAPL for Apple Inc.).\n",
        "\n",
        "ddgs_news:\n",
        "\n",
        "e.g. ddgs_news: TSLA\n",
        "Performs a news search for the given ticker query using DuckDuckGo and returns a summarized text of all the news articles found. Use the news content to analyze and determine whether the overall sentiment is positive, negative, or neutral.\n",
        "\n",
        "You are responsible for retrieving the news and performing the sentiment analysis.\n",
        "\n",
        "Example session:\n",
        "\n",
        "Question: What is the current price of Tesla, and is the recent news about it positive or negative?\n",
        "Thought: First, I need to get the current stock price of Tesla.\n",
        "Action: stock_price: TSLA\n",
        "PAUSE\n",
        "\n",
        "You will be called again with this:\n",
        "\n",
        "Observation: The current stock price of Tesla (TSLA) is $700.\n",
        "\n",
        "Thought: Now, I should retrieve the latest news about Tesla and determine the overall sentiment.\n",
        "Action: ddgs_news: Tesla\n",
        "PAUSE\n",
        "\n",
        "You will be called again with this:\n",
        "\n",
        "Observation: Tesla secures a new battery deal with Panasonic...\\nTesla's latest earnings surpass expectations...\\n\\n--Next News--\\n\\nTesla faces regulatory challenges in Europe...\\n\\n--Next News--\\n\\n...\n",
        "\n",
        "Thought: After analyzing the news content, the sentiment appears to be mostly positive due to the strong earnings and new battery deal.\n",
        "I should calcuate the number of stocks you could buy for $10,000.\n",
        "\n",
        "Action: calculate: result=$10000/700 = 14 shares\n",
        "PAUSE\n",
        "\n",
        "Observation: You could buy 14 shares.\n",
        "\n",
        "Answer: The current price of Tesla (TSLA) is $700. The recent news about Tesla is generally positive, with strong earnings and a new battery deal.\n",
        "You could buy 14 shares to cover your investment.\n",
        "\n",
        "\n",
        "If the news is neither negative or positive and you cannot make a decisiion, return a HOLD statement. IF not give a BUY or SELL statement.\n",
        "This is for a lab experiment and not a trading strategy and thus be bold.\n",
        "\n",
        "Return the number of shares that could be bought.\n",
        "\"\"\".strip()"
      ],
      "metadata": {
        "id": "CXKBa7z1VMv1"
      },
      "execution_count": null,
      "outputs": []
    },
    {
      "cell_type": "code",
      "source": [
        "from duckduckgo_search import DDGS\n",
        "def search_news(query: str, region: str = 'in-en') -> str:\n",
        "    try:\n",
        "        news_results = DDGS().news(query, region='in-en',max_results=5)\n",
        "        if not news_results:\n",
        "            return f\"No recent news found for {query}.\"\n",
        "\n",
        "        text=\"\"\n",
        "        for article in news_results:\n",
        "            text +=  article.get('title')+ \"\\n\"+ article.get('body')+\"\\n\\n--Next News--\\n\\n\"\n",
        "\n",
        "        return text\n",
        "\n",
        "    except Exception as e:\n",
        "        return f\"An error occurred while searching for news: {str(e)}\"\n",
        "\n",
        "search_news(\"L&T Infotech\")"
      ],
      "metadata": {
        "colab": {
          "base_uri": "https://localhost:8080/",
          "height": 231
        },
        "id": "akRGhSdGRwG-",
        "outputId": "f867f517-8d23-4943-bb76-6cb0407100ab"
      },
      "execution_count": null,
      "outputs": [
        {
          "output_type": "execute_result",
          "data": {
            "text/plain": [
              "\"l t infotech\\nThe two sister concerns are quite distinct in terms of business and clientele, with L&T Infotech more focussed on banking, insurance, etc, whereas Mindtree is predominant in retail and hospitality. On account of culture and values as well as work-life ...\\n\\n--Next News--\\n\\nIEX, L&T Infotech, TTK Prestige and two other stocks that have ignored the market mood to hit a one-year high\\nShares of the construction conglomerate gained as much as 4% on October 19 as its subsidiary Larsen & Toubro Infotech reported strongest sequential growth in the September quarter. L&T has a 74.09 ...\\n\\n--Next News--\\n\\n'How long can you stare at wife?' L&T chief wants employees to work on Sundays\\nL&T chairman SN Subrahmanyan's call for a 90-hour work week has reignited the work-life balance debate, adding to the uproar sparked by Narayana Murthy's 70-hour work week suggestion.\\n\\n--Next News--\\n\\nHappiest Minds is a smaller company that does the same thing as MindTree and L&T Infotech — but clearly it is doing it a lot better\\nEven though the Bengaluru-based company has a similar distribution of clients as its mid-cap peers — like MindTree and L&T Infotech — it's able to get a bigger bang for its buck, according ...\\n\\n--Next News--\\n\\nLarsen & Toubro Infotech, Mindtree to avoid business overlap\\nLarsen & Toubro Infotech (LTI) and Mindtree will avoid client overlaps as well as competing in the same categories till parent entity L&T decides on their merger, the chief executives of the mid-tier IT services providers said.\\n\\n--Next News--\\n\\n\""
            ],
            "application/vnd.google.colaboratory.intrinsic+json": {
              "type": "string"
            }
          },
          "metadata": {},
          "execution_count": 26
        }
      ]
    },
    {
      "cell_type": "code",
      "source": [
        "import polygon\n",
        "stocks_client = polygon.StocksClient(os.getenv(\"POLYGON_API_KEY\"))\n",
        "def get_stock_price(ticker: str)->str:\n",
        "    return stocks_client.get_previous_close(ticker)[\"results\"][0][\"c\"]\n",
        "\n",
        "get_stock_price(\"MSFT\")"
      ],
      "metadata": {
        "colab": {
          "base_uri": "https://localhost:8080/"
        },
        "id": "W2nNDoWhUHgT",
        "outputId": "ca030421-ed24-47f1-ebe3-eed4263793bc"
      },
      "execution_count": null,
      "outputs": [
        {
          "output_type": "execute_result",
          "data": {
            "text/plain": [
              "424.56"
            ]
          },
          "metadata": {},
          "execution_count": 29
        }
      ]
    },
    {
      "cell_type": "code",
      "source": [
        "def calculate(expression: str) -> str:\n",
        "    try:\n",
        "        # Set up allowed imports\n",
        "        namespace = {\n",
        "            'math': __import__('math'),\n",
        "            'numpy': __import__('numpy')\n",
        "        }\n",
        "        clean_expr = expression.replace('$', '')\n",
        "        # Execute in namespace\n",
        "        exec(clean_expr, namespace)\n",
        "        result = namespace.get('result')\n",
        "\n",
        "        # Format result\n",
        "        if isinstance(result, float):\n",
        "            result = round(result, 2)\n",
        "\n",
        "        return str(result)\n",
        "\n",
        "    except Exception as e:\n",
        "        return f\"Error in calculation: {str(e)}\"\n",
        "\n",
        "# Example usage\n",
        "print(calculate(\"import math; result = math.sqrt(4) * math.log(10)\"))"
      ],
      "metadata": {
        "colab": {
          "base_uri": "https://localhost:8080/"
        },
        "id": "uQtnwAqZIXaU",
        "outputId": "66d835b3-aa9b-469f-c46f-849dd3911e70"
      },
      "execution_count": null,
      "outputs": [
        {
          "output_type": "stream",
          "name": "stdout",
          "text": [
            "4.61\n"
          ]
        }
      ]
    },
    {
      "cell_type": "code",
      "source": [
        "calculate(\"result=4 * 7 / 3\")"
      ],
      "metadata": {
        "colab": {
          "base_uri": "https://localhost:8080/",
          "height": 35
        },
        "id": "1KjKMm4QZak1",
        "outputId": "93938e5a-4e26-46a6-9dc7-0084a697e080"
      },
      "execution_count": null,
      "outputs": [
        {
          "output_type": "execute_result",
          "data": {
            "text/plain": [
              "'9.33'"
            ],
            "application/vnd.google.colaboratory.intrinsic+json": {
              "type": "string"
            }
          },
          "metadata": {},
          "execution_count": 31
        }
      ]
    },
    {
      "cell_type": "code",
      "source": [
        "known_actions = {\n",
        "    \"ddgs_news\": search_news,\n",
        "    \"stock_price\": get_stock_price,\n",
        "    \"calculate\": calculate\n",
        "}"
      ],
      "metadata": {
        "id": "TwmKq0mBogKI"
      },
      "execution_count": null,
      "outputs": []
    },
    {
      "cell_type": "code",
      "source": [
        "def simple_query(question):\n",
        "  bot = Agent(prompt)\n",
        "  return bot(question)\n",
        "\n",
        "response = simple_query(\"IS Tesla a good buy\")\n",
        "response"
      ],
      "metadata": {
        "colab": {
          "base_uri": "https://localhost:8080/",
          "height": 53
        },
        "id": "FSYovzjjYgLv",
        "outputId": "057f5381-7f94-4744-f2d5-06e115c3f9d0"
      },
      "execution_count": null,
      "outputs": [
        {
          "output_type": "execute_result",
          "data": {
            "text/plain": [
              "'Thought: To determine if Tesla is a good buy, I need to consider its current stock price and the overall sentiment of recent news about the company.\\n\\nAction: stock_price: TSLA\\nPAUSE'"
            ],
            "application/vnd.google.colaboratory.intrinsic+json": {
              "type": "string"
            }
          },
          "metadata": {},
          "execution_count": 35
        }
      ]
    },
    {
      "cell_type": "code",
      "source": [
        "import re\n",
        "def parse_actions(ai_message):\n",
        "  action_re = re.compile('^Action: (\\w+): (.*)$')\n",
        "  actions = [action_re.match(a) for a in ai_message.split('\\n') if action_re.match(a)]\n",
        "  print(actions)\n",
        "\n",
        "  if actions:\n",
        "        action, action_input = actions[0].groups()\n",
        "        if action not in known_actions:\n",
        "              raise Exception(\"Unknown action: {}: {}\".format(action, action_input))\n",
        "        print(\" -- running {} {}\".format(action, action_input))\n",
        "        observation = known_actions[action](str(action_input))\n",
        "        return observation\n",
        "\n",
        "  return None\n",
        "\n",
        "parse_actions(response)"
      ],
      "metadata": {
        "colab": {
          "base_uri": "https://localhost:8080/"
        },
        "id": "DXiA9JLqeVh8",
        "outputId": "a93b30e6-7001-4bbb-dd81-a5b86625fb9e"
      },
      "execution_count": null,
      "outputs": [
        {
          "output_type": "stream",
          "name": "stdout",
          "text": [
            "[<re.Match object; span=(0, 25), match='Action: stock_price: TSLA'>]\n",
            " -- running stock_price TSLA\n"
          ]
        },
        {
          "output_type": "execute_result",
          "data": {
            "text/plain": [
              "394.94"
            ]
          },
          "metadata": {},
          "execution_count": 36
        }
      ]
    },
    {
      "cell_type": "code",
      "source": [
        "calculate(\"result = 10000/214.11\")"
      ],
      "metadata": {
        "colab": {
          "base_uri": "https://localhost:8080/",
          "height": 53
        },
        "id": "6uN35Y2aZqto",
        "outputId": "8c5f004f-e222-41c6-98ec-e412a585517d"
      },
      "execution_count": null,
      "outputs": [
        {
          "output_type": "stream",
          "name": "stdout",
          "text": [
            "result = 10000/214.11\n"
          ]
        },
        {
          "output_type": "execute_result",
          "data": {
            "text/plain": [
              "'46.70496473775162'"
            ],
            "application/vnd.google.colaboratory.intrinsic+json": {
              "type": "string"
            }
          },
          "metadata": {},
          "execution_count": 12
        }
      ]
    },
    {
      "cell_type": "code",
      "source": [
        "def multi_step_reasoning(question, max_turns=5):\n",
        "    i = 0\n",
        "    bot = Agent(prompt)\n",
        "    next_prompt = question\n",
        "    while i < max_turns:\n",
        "        i += 1\n",
        "        result = bot(next_prompt)\n",
        "        print(result)\n",
        "\n",
        "        # Check if the result contains an 'Answer' (indicating the final step)\n",
        "        if \"Answer:\" in result:\n",
        "            print(\"Final Answer:\", result)\n",
        "            break\n",
        "\n",
        "        observation = parse_actions(result)\n",
        "\n",
        "        if observation is None:\n",
        "            break\n",
        "        print(\"Observation:\", observation)\n",
        "        next_prompt = \"Observation: {}\".format(observation)\n",
        "\n",
        "# Example usage\n",
        "multi_step_reasoning(\"Is Tesla a good buy? How many can I buy with my pension fund of $50000\")"
      ],
      "metadata": {
        "colab": {
          "base_uri": "https://localhost:8080/"
        },
        "id": "gWklB9OdXco2",
        "outputId": "aead2b9e-62ee-4691-c9e5-67bb09a4d962"
      },
      "execution_count": null,
      "outputs": [
        {
          "output_type": "stream",
          "name": "stdout",
          "text": [
            "Thought: To determine if Tesla is a good buy, I need to get the current stock price of Tesla and analyze the recent news about it.\n",
            "\n",
            "Action: stock_price: TSLA\n",
            "PAUSE\n",
            "[<re.Match object; span=(0, 25), match='Action: stock_price: TSLA'>]\n",
            " -- running stock_price TSLA\n",
            "Observation: 394.94\n",
            "Thought: Now that I have the current stock price of Tesla, I should retrieve the latest news about Tesla and determine the overall sentiment.\n",
            "\n",
            "Action: ddgs_news: Tesla\n",
            "PAUSE\n",
            "[<re.Match object; span=(0, 24), match='Action: ddgs_news: Tesla'>]\n",
            " -- running ddgs_news Tesla\n",
            "Observation: Tesla recalls around 239,000 vehicles over rear-view camera issue\n",
            "Tesla said it was investigating to determine whether any affected vehicles have experienced stress that could result in a shorting failure\n",
            "\n",
            "--Next News--\n",
            "\n",
            "Tesla Model Y 2025: Price, features, specifications, and everything you need to know\n",
            "Tesla has launched a revamped Model Y in China, featuring a new design and upgraded interior at a starting price of 263,500 yuan. The update aims to regain market share from competitors like Xiaomi. The long-range variant now offers a driving range of 719 kilometers per charge.\n",
            "\n",
            "--Next News--\n",
            "\n",
            "Tesla launches redesigned Model Y in China, seeking to fend off rivals\n",
            "Tesla launched a new version of the Model Y, its best-selling car, in China on Friday, hoping that a redesigned exterior and upgraded features inside will help it regain market share taken by rivals such as Xiaomi.\n",
            "\n",
            "--Next News--\n",
            "\n",
            "Elon Musk donates Tesla shares worth $112 million to charities with \"no current intention to ...\"\n",
            "Elon Musk has donated 268,000 Tesla shares valued at nearly $112 million to charity. This follows a significant donation of $1.95 billion worth of Tes\n",
            "\n",
            "--Next News--\n",
            "\n",
            "How Tesla cybertruck attacker used ChatGPT to plan the explosion outside Trump's hotel\n",
            "Nearly a week after a chilling New Year's Day attack outside President-elect Donald Trump's Las Vegas hotel, the police have revealed that the attacker used generative AI tools, including ChatGPT to plan the blast.\n",
            "\n",
            "--Next News--\n",
            "\n",
            "\n",
            "Thought: After analyzing the news content, the sentiment appears to be mostly neutral, with a mix of positive and negative news. There are some recalls and investigations, but also new product launches and charitable donations.\n",
            "\n",
            "Action: calculate: result=$50000/394.94\n",
            "PAUSE\n",
            "[<re.Match object; span=(0, 39), match='Action: calculate: result=$50000/394.94'>]\n",
            " -- running calculate result=$50000/394.94\n",
            "result=$50000/394.94\n",
            "Observation: Error in calculation: invalid syntax (<string>, line 1)\n",
            "Thought: It seems like there was an error in my previous calculation. I'll try again with the correct syntax.\n",
            "\n",
            "Action: calculate: result=50000/394.94\n",
            "PAUSE\n",
            "[<re.Match object; span=(0, 38), match='Action: calculate: result=50000/394.94'>]\n",
            " -- running calculate result=50000/394.94\n",
            "result=50000/394.94\n",
            "Observation: 126.60150908998835\n",
            "Thought: I now have the result of the calculation, which represents the number of shares that can be bought with the pension fund of $50,000. With a neutral sentiment in the news, I will provide a HOLD statement.\n",
            "\n",
            "Answer: The current price of Tesla (TSLA) is $394.94. The recent news about Tesla is neutral, with a mix of positive and negative news. You could buy approximately 127 shares with your pension fund of $50,000. HOLD.\n",
            "Final Answer: Thought: I now have the result of the calculation, which represents the number of shares that can be bought with the pension fund of $50,000. With a neutral sentiment in the news, I will provide a HOLD statement.\n",
            "\n",
            "Answer: The current price of Tesla (TSLA) is $394.94. The recent news about Tesla is neutral, with a mix of positive and negative news. You could buy approximately 127 shares with your pension fund of $50,000. HOLD.\n"
          ]
        }
      ]
    },
    {
      "cell_type": "code",
      "source": [
        "print(multi_step_reasoning(\"Compare Microsoft and Apple and see which one I could buy for my portfolio now\",10))"
      ],
      "metadata": {
        "colab": {
          "base_uri": "https://localhost:8080/"
        },
        "id": "3QCwnKTTXlRq",
        "outputId": "20b7a89d-6c5e-42c0-d4dd-580bd95ade82"
      },
      "execution_count": null,
      "outputs": [
        {
          "output_type": "stream",
          "name": "stdout",
          "text": [
            "Thought: I need to compare Microsoft and Apple to determine which one is a better investment opportunity for my portfolio. I'll start by retrieving the current stock prices of both companies.\n",
            "\n",
            "Action: stock_price: MSFT\n",
            "PAUSE\n",
            "[<re.Match object; span=(0, 25), match='Action: stock_price: MSFT'>]\n",
            " -- running stock_price MSFT\n",
            "Observation: 424.56\n",
            "Thought: Now I have the current stock price of Microsoft (MSFT). Next, I'll retrieve the current stock price of Apple (AAPL).\n",
            "\n",
            "Action: stock_price: AAPL\n",
            "PAUSE\n",
            "[<re.Match object; span=(0, 25), match='Action: stock_price: AAPL'>]\n",
            " -- running stock_price AAPL\n",
            "Observation: 242.7\n",
            "Thought: I now have the current stock prices of both Microsoft (MSFT) and Apple (AAPL). To better understand the sentiment around these companies, I'll retrieve the latest news for each of them.\n",
            "\n",
            "Action: ddgs_news: MSFT\n",
            "PAUSE\n",
            "[<re.Match object; span=(0, 23), match='Action: ddgs_news: MSFT'>]\n",
            " -- running ddgs_news MSFT\n",
            "Observation: Is Microsoft Corporation (MSFT) the Best Blue Chip Stock to Buy for 2025?\n",
            "We recently published a list of 10 Best Blue Chip Stocks to Buy for 2025. In this article, we are going to take a look at where Microsoft Corporation (NASDAQ:MSFT) stands against other best blue chip stocks to buy for 2025.\n",
            "\n",
            "--Next News--\n",
            "\n",
            "Is Microsoft Corp. (MSFT) the Best Technology Stock to Invest In for the Long Term\n",
            "We recently compiled a list of the 12 Best Technology Stocks to Invest In for the Long Term. In this article, we are going to take a look at where Microsoft Corp. (NASDAQ:MSFT) stands against the other technology stocks.\n",
            "\n",
            "--Next News--\n",
            "\n",
            "Microsoft: I Hate AI, But This Is The Only Tech Stock I'm Buying\n",
            "Get insights on the current state of AI, its potential, and Microsoft's role in navigating the AI revolution amid inflated expectations. Read more here.\n",
            "\n",
            "--Next News--\n",
            "\n",
            "Microsoft planning to cut less than 1% of workforce, Information reports\n",
            "Microsoft (MSFT) is planning company-wide performance-based job cuts, The Information's Aaron Holmes reports. The layoffs will affect less than\n",
            "\n",
            "--Next News--\n",
            "\n",
            "Microsoft planning companywide job cuts, Business Insider reports\n",
            "A spokesperson for the company confirmed plans to cut jobs, the Business Insider report said, but did not specify the scale of the cuts. The report also said that the company had likely backfilled the roles, presenting few changes to Microsoft's overall headcount.\n",
            "\n",
            "--Next News--\n",
            "\n",
            "\n",
            "Thought: After analyzing the news content about Microsoft, the sentiment appears to be mostly positive, with several articles highlighting its potential as a blue chip stock and a good technology stock to invest in for the long term. However, there are also some reports about upcoming job cuts, which might be a slight concern.\n",
            "\n",
            "Next, I'll retrieve the latest news about Apple to get a better understanding of its sentiment.\n",
            "\n",
            "Action: ddgs_news: AAPL\n",
            "PAUSE\n",
            "[<re.Match object; span=(0, 23), match='Action: ddgs_news: AAPL'>]\n",
            " -- running ddgs_news AAPL\n",
            "Observation: Is Apple Inc. (AAPL) the Best Blue Chip Stock to Buy for 2025?\n",
            "We recently published a list of 10 Best Blue Chip Stocks to Buy for 2025. In this article, we are going to take a look at where Apple Inc. (NASDAQ:AAPL) stands against other best blue chip stocks to buy for 2025.\n",
            "\n",
            "--Next News--\n",
            "\n",
            "Prediction: This AI Company Will Be the Most Valuable in the World by the End of 2025\n",
            "Apple (NASDAQ: AAPL) is the largest, although Nvidia (NASDAQ: NVDA) is right on its tail and may move in and out of first place depending on the market's daily swings. Microsoft (NASDAQ: MSFT) is in third place,\n",
            "\n",
            "--Next News--\n",
            "\n",
            "Is Apple Inc. (AAPL) the Best Technology Stock to Invest In for the Long Term\n",
            "We recently compiled a list of the 12 Best Technology Stocks to Invest In for the Long Term. In this article, we are going to take a look at where Apple Inc. (NASDAQ:AAPL) stands against the other technology stocks.\n",
            "\n",
            "--Next News--\n",
            "\n",
            "Here's how much Warren Buffett is up on his biggest stock bet\n",
            "Investing in Apple stock way back in 2016 has proven to be a big win for Buffett — let's hone in on some more exact details.\n",
            "\n",
            "--Next News--\n",
            "\n",
            "Apple Clarifies Siri Privacy Policy After $95 Million Settlement Over Allegations Of Unauthorized Recordings\n",
            "Apple Inc. clarifies privacy policies for Siri and settles $95M lawsuit over unauthorized recordings. No data used for marketing. Similar suit against Google ongoing.\n",
            "\n",
            "--Next News--\n",
            "\n",
            "\n",
            "Thought: After analyzing the news content about Apple, the sentiment appears to be mostly positive, with several articles highlighting its potential as a blue chip stock and a good technology stock to invest in for the long term. There's also a mention of Warren Buffett's successful investment in Apple, which adds to the positive sentiment.\n",
            "\n",
            "Now that I have a better understanding of the sentiment around both Microsoft and Apple, I can make a decision on which one to buy for my portfolio.\n",
            "\n",
            "Action: calculate: result=$10000/424.56 = 23.55 shares of MSFT or $10000/242.7 = 41.22 shares of AAPL\n",
            "PAUSE\n",
            "[<re.Match object; span=(0, 101), match='Action: calculate: result=$10000/424.56 = 23.55 s>]\n",
            " -- running calculate result=$10000/424.56 = 23.55 shares of MSFT or $10000/242.7 = 41.22 shares of AAPL\n",
            "result=$10000/424.56 = 23.55 shares of MSFT or $10000/242.7 = 41.22 shares of AAPL\n",
            "Observation: Error in calculation: invalid syntax (<string>, line 1)\n",
            "Thought: It looks like there was an error in my previous calculation. I'll try again with the correct syntax.\n",
            "\n",
            "Action: calculate: result=10000/424.56\n",
            "PAUSE\n",
            "[<re.Match object; span=(0, 38), match='Action: calculate: result=10000/424.56'>]\n",
            " -- running calculate result=10000/424.56\n",
            "result=10000/424.56\n",
            "Observation: 23.553796872055774\n",
            "Thought: I now have the result of the calculation, which is the number of shares of Microsoft I could buy with $10,000. Let's do the same calculation for Apple.\n",
            "\n",
            "Action: calculate: result=10000/242.7\n",
            "PAUSE\n",
            "[<re.Match object; span=(0, 37), match='Action: calculate: result=10000/242.7'>]\n",
            " -- running calculate result=10000/242.7\n",
            "result=10000/242.7\n",
            "Observation: 41.20313143798929\n",
            "Thought: I now have the results of the calculations, which show that I could buy approximately 23.55 shares of Microsoft or 41.20 shares of Apple with $10,000. Considering the positive sentiment around both companies, I'll make a decision on which one to buy.\n",
            "\n",
            "Based on the analysis, I think Apple is a better buy at this time due to its strong long-term potential and positive news around its technology and investments.\n",
            "\n",
            "Answer: I would BUY 41.20 shares of Apple (AAPL) with my $10,000 investment.\n",
            "Final Answer: Thought: I now have the results of the calculations, which show that I could buy approximately 23.55 shares of Microsoft or 41.20 shares of Apple with $10,000. Considering the positive sentiment around both companies, I'll make a decision on which one to buy.\n",
            "\n",
            "Based on the analysis, I think Apple is a better buy at this time due to its strong long-term potential and positive news around its technology and investments.\n",
            "\n",
            "Answer: I would BUY 41.20 shares of Apple (AAPL) with my $10,000 investment.\n",
            "None\n"
          ]
        }
      ]
    },
    {
      "cell_type": "code",
      "source": [
        "print(multi_step_reasoning(\"Compare Infosys ADR and Cognizant and see which one I could buy for my portfolio now\",10))"
      ],
      "metadata": {
        "colab": {
          "base_uri": "https://localhost:8080/"
        },
        "id": "XNvYqSYcY_0u",
        "outputId": "af43ccc7-c338-4fa9-e706-a55cfa13e8bc"
      },
      "execution_count": null,
      "outputs": [
        {
          "output_type": "stream",
          "name": "stdout",
          "text": [
            "Thought: I need to compare the current stock prices of Infosys ADR (INFY) and Cognizant (CTSH) to determine which one is a better buy for my portfolio.\n",
            "\n",
            "Action: stock_price: INFY\n",
            "PAUSE\n",
            "[<re.Match object; span=(0, 25), match='Action: stock_price: INFY'>]\n",
            " -- running stock_price INFY\n",
            "Observation: 22.78\n",
            "Thought: Now I have the current stock price of Infosys ADR (INFY), which is $22.78. Next, I need to get the current stock price of Cognizant (CTSH).\n",
            "\n",
            "Action: stock_price: CTSH\n",
            "PAUSE\n",
            "[<re.Match object; span=(0, 25), match='Action: stock_price: CTSH'>]\n",
            " -- running stock_price CTSH\n",
            "Observation: 76.02\n",
            "Thought: Now I have the current stock prices of both Infosys ADR (INFY) at $22.78 and Cognizant (CTSH) at $76.02. To make a fair comparison, I should retrieve the latest news about both companies and analyze the sentiment.\n",
            "\n",
            "Action: ddgs_news: INFY\n",
            "PAUSE\n",
            "[<re.Match object; span=(0, 23), match='Action: ddgs_news: INFY'>]\n",
            " -- running ddgs_news INFY\n",
            "Observation: Infy holds wage hike for now\n",
            "New Delhi : IT major Infosys has reportedly deferred the annual salary hike in the fourth quarter of FY2024-25. The company last implemented a salary hike in November 2023. The delay in the salary hike, which is usually implemented at the beginning of the year, indicates that the domestic IT sector is still facing uncertainties.\n",
            "\n",
            "--Next News--\n",
            "\n",
            "Mysuru's link to MMS: UoM,Infy, and a unique pencil tribute\n",
            "Dr Manmohan Singh, then serving as finance minister, delivered a convocation address at the University of Mysore (UoM), passionately defending his economic reforms that would shape India's future. Singh's enduring connection with Mysuru deepened during his tenure as PM when his govt allocated Rs 100 crore to UoM in 2009 for\n",
            "\n",
            "--Next News--\n",
            "\n",
            "Infosys Ltd (INFY) Share Price\n",
            "The highest price of Infosys Ltd stock is ₹2,006.45 in the last 52-week. What is the share price of Infosys Ltd (INFY) today on NSE? As on Jan 01, 2025, Infosys Ltd (INFY)'s share price on NSE ...\n",
            "\n",
            "--Next News--\n",
            "\n",
            "Infosys Limited (INFY)\n",
            "Investing.com -- Infosys Ltd (NS:INFY) shares are expected to outperform India's broader stock index in the next two months, Morgan Stanley (NYSE:MS) said in a note. Infosys (NSE: INFY ...\n",
            "\n",
            "--Next News--\n",
            "\n",
            "Infosys Ltd ADR INFY\n",
            "We sell different types of products and services to both investment professionals and individual investors. These products and services are usually sold through license agreements or subscriptions ...\n",
            "\n",
            "--Next News--\n",
            "\n",
            "\n",
            "Thought: After analyzing the news content about Infosys ADR (INFY), the sentiment appears to be neutral to slightly negative, with the company deferring the annual salary hike, indicating uncertainties in the domestic IT sector. However, there are also some positive notes, such as Morgan Stanley's expectation that Infosys shares will outperform the broader stock index in the next two months.\n",
            "\n",
            "Next, I need to retrieve the latest news about Cognizant (CTSH) to make a fair comparison.\n",
            "\n",
            "Action: ddgs_news: CTSH\n",
            "PAUSE\n",
            "[<re.Match object; span=(0, 23), match='Action: ddgs_news: CTSH'>]\n",
            " -- running ddgs_news CTSH\n",
            "Observation: Can Cognizant's Collaboration With Siemens Push the Stock Higher?\n",
            "CTSH partners with Siemens to enhance SDV development with PAVE360, enabling continuous verification and validation for the automotive industry.\n",
            "\n",
            "--Next News--\n",
            "\n",
            "CTSH Cognizant Technology Solutions Corporation\n",
            "The overall quant rating is not an average of the factor grades listed. Instead, it gives greater weight to the metrics with the strongest predictive value.\n",
            "\n",
            "--Next News--\n",
            "\n",
            "CTSH or WIT: Which Is the Better Value Stock Right Now?\n",
            "Another notable valuation metric for CTSH is its P/B ratio of 2.73. Investors use the P/B ratio to look at a stock's market value versus its book value, which is defined as total assets minus ...\n",
            "\n",
            "--Next News--\n",
            "\n",
            "Cognizant Technology Solutions\n",
            "Derived prices are not provided by exchanges. They are derived by market makers in CFD OTC market and hence prices may not be accurate and may differ from the actual market price, meaning prices ...\n",
            "\n",
            "--Next News--\n",
            "\n",
            "Cognizant Technology Solutions Corporation Class A Common Stock (CTSH)\n",
            "Real time quote data is not available at this time. *Data is provided by Barchart.com. Data reflects weightings calculated at the beginning of each month. Data is subject to change. **Green ...\n",
            "\n",
            "--Next News--\n",
            "\n",
            "\n",
            "Thought: After analyzing the news content about Cognizant (CTSH), the sentiment appears to be positive, with the company's partnership with Siemens expected to enhance SDV development and potentially push the stock higher. The other news articles seem to be neutral, providing information about the company's valuation metrics and stock prices.\n",
            "\n",
            "Now, I need to compare the sentiment and stock prices of both Infosys ADR (INFY) and Cognizant (CTSH) to determine which one is a better buy for my portfolio.\n",
            "\n",
            "Action: calculate: result=$10000/22.78 = 439 shares of INFY\n",
            "PAUSE\n",
            "[<re.Match object; span=(0, 59), match='Action: calculate: result=$10000/22.78 = 439 shar>]\n",
            " -- running calculate result=$10000/22.78 = 439 shares of INFY\n",
            "result=$10000/22.78 = 439 shares of INFY\n",
            "Observation: Error in calculation: invalid syntax (<string>, line 1)\n",
            "Thought: I apologize for the mistake. It seems I made an error in the calculation. Let me try again.\n",
            "\n",
            "Action: calculate: result=10000/22.78\n",
            "PAUSE\n",
            "[<re.Match object; span=(0, 37), match='Action: calculate: result=10000/22.78'>]\n",
            " -- running calculate result=10000/22.78\n",
            "result=10000/22.78\n",
            "Observation: 438.98156277436345\n",
            "Thought: Now I have the correct calculation for the number of shares of Infosys ADR (INFY) I could buy with $10,000. Next, I need to calculate the number of shares of Cognizant (CTSH) I could buy with the same amount.\n",
            "\n",
            "Action: calculate: result=10000/76.02\n",
            "PAUSE\n",
            "[<re.Match object; span=(0, 37), match='Action: calculate: result=10000/76.02'>]\n",
            " -- running calculate result=10000/76.02\n",
            "result=10000/76.02\n",
            "Observation: 131.54433043935808\n",
            "Thought: Now I have the calculations for both Infosys ADR (INFY) and Cognizant (CTSH). Based on the sentiment analysis, Cognizant seems to have a more positive outlook, and its stock price is also relatively higher. Considering these factors, I would recommend buying Cognizant (CTSH) for my portfolio.\n",
            "\n",
            "Answer: I would BUY Cognizant (CTSH) and could buy approximately 132 shares with $10,000.\n",
            "Final Answer: Thought: Now I have the calculations for both Infosys ADR (INFY) and Cognizant (CTSH). Based on the sentiment analysis, Cognizant seems to have a more positive outlook, and its stock price is also relatively higher. Considering these factors, I would recommend buying Cognizant (CTSH) for my portfolio.\n",
            "\n",
            "Answer: I would BUY Cognizant (CTSH) and could buy approximately 132 shares with $10,000.\n",
            "None\n"
          ]
        }
      ]
    }
  ]
}